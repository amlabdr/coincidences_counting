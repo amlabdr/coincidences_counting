{
 "cells": [
  {
   "cell_type": "code",
   "execution_count": 1,
   "id": "cb87a28a",
   "metadata": {},
   "outputs": [],
   "source": [
    "from ipywidgets import interact\n",
    "import pandas as pd\n",
    "import matplotlib.pyplot as plt\n",
    "import numpy as np\n",
    "import time, math"
   ]
  },
  {
   "cell_type": "code",
   "execution_count": 7,
   "id": "7e6c1c01",
   "metadata": {},
   "outputs": [],
   "source": [
    "from sequence.kernel.timeline import Timeline\n",
    "from sequence.topology.node import Node\n",
    "from sequence.components.light_source import SPDCSource\n",
    "from sequence.kernel.process import Process\n",
    "from sequence.kernel.event import Event\n",
    "from sequence.utils import log\n",
    "import logging\n",
    "logger = logging.getLogger()\n",
    "from sequence.kernel.timeline import Timeline\n",
    "from sequence.protocol import Protocol\n",
    "#logger.setLevel(logging.DEBUG)\n",
    "\n",
    "FREQUENCY = 1e5\n",
    "#Qbits_NUM = 2\n",
    "\n",
    "\n",
    "class Counter:\n",
    "    def __init__(self):\n",
    "        self.count = 0\n",
    "        self.time = 0\n",
    "\n",
    "    def trigger(self, detector, info):\n",
    "        self.count += 1\n",
    "        self.time = info['time']\n",
    "        \n",
    "        \n",
    "# protocol to control photon emission on end node\n",
    "class EmitProtocol(Protocol):\n",
    "    def __init__(self, own: \"EndNode\", name: str, num_qubits: int, source_name: str):\n",
    "        \"\"\"Constructor for Emission protocol.\n",
    "\n",
    "        Args:\n",
    "            own (EndNode): node on which the protocol is located.\n",
    "            name (str): name of the protocol instance.\n",
    "            num_qubits (int): number of qubits to send in one execution.\n",
    "            delay_time (int): time to wait before re-starting execution.\n",
    "            source_name (str): name of the light source on the node.\n",
    "        \"\"\"\n",
    "\n",
    "        super().__init__(own, name)\n",
    "        self.num_qubits = num_qubits\n",
    "        self.source_name = source_name\n",
    "        \n",
    "    def start(self):\n",
    "        states = [[complex(math.sqrt(1/2)), complex(math.sqrt(1/2))]] * self.num_qubits  # TODO: rewrite spdc class?\n",
    "        source = self.own.components[self.source_name]\n",
    "        source.emit(states)\n",
    "\n",
    "    def received_message(self, src: str, msg):\n",
    "        pass\n",
    "        \n",
    "\n",
    "\n",
    "\n",
    "class SenderNode(Node):\n",
    "    def __init__(self, name, timeline, Qbits_NUM):\n",
    "        super().__init__(name, timeline)\n",
    "        self.n_pairs = 0\n",
    "        self.timeline = timeline\n",
    "        \n",
    "        SPDCSource_name = name + \".spdcsource\"\n",
    "        self.spdcsource = SPDCSource(SPDCSource_name, timeline, frequency=FREQUENCY, mean_photon_num=5,random_frequency=True)\n",
    "        \n",
    "        self.add_component(self.spdcsource)\n",
    "        \n",
    "        self.spdcsource.add_receiver(self)\n",
    "        self.spdcsource.add_receiver(self)\n",
    "        self.periods = []\n",
    "        self.counts = []\n",
    "        self.times = []\n",
    "        process = Process(self, \"init_counter\",[])\n",
    "        period = int(1e12 / FREQUENCY)\n",
    "        for i in range(Qbits_NUM):\n",
    "            event = Event(i * period + period, process)\n",
    "            self.periods.append(i * period)\n",
    "            self.timeline.schedule(event)\n",
    "        \n",
    "        \n",
    "        \n",
    "        # protocols\n",
    "        self.emit_protocol = EmitProtocol(self, name + \".emit_protocol\", Qbits_NUM, SPDCSource_name)\n",
    "\n",
    "    def init_counter(self):\n",
    "        self.counts.append(self.n_pairs//2)\n",
    "        self.n_pairs = 0\n",
    "\n",
    "\n",
    "\n",
    "    def get(self, photon: \"Photon\", **kwargs):\n",
    "        self.n_pairs +=1\n",
    "        self.times.append(self.timeline.time)\n",
    "\n",
    "\n",
    "        \n",
    "def test(sim_time,mean_photon_num,Qbits_NUM):\n",
    "    PS_PER_MS = 1e9\n",
    "    tl = Timeline(sim_time * PS_PER_MS)\n",
    "    my_source = SenderNode(\"my_source\",tl, Qbits_NUM)\n",
    "    my_source.set_seed(0)\n",
    "    my_source.spdcsource.mean_photon_num = mean_photon_num\n",
    "    tl.init()\n",
    "    process = Process(my_source.emit_protocol, \"start\", [])\n",
    "    event = Event(0, process)\n",
    "    tl.schedule(event)\n",
    "    tl.run()\n",
    "    \n",
    "    plt.figure()\n",
    "    \n",
    "    x=my_source.times\n",
    "    y=[1]*len(x)\n",
    "    \n",
    "    counts = my_source.spdcsource.num_photon_pairs_list\n",
    "    #counts = my_source.counts\n",
    "    plt.plot(x,y, marker ='x')\n",
    "    #plt.plot(data,range(1, len(data) + 1),marker ='x')\n",
    "    df = pd.DataFrame({\"counts\":counts})\n",
    "    \n",
    "    data_count = df[[\"counts\"]].apply(pd.value_counts)\n",
    "    \n",
    "    \n",
    "    data_count.sort_index().plot(kind=\"bar\")\n",
    "    plt.show()"
   ]
  },
  {
   "cell_type": "code",
   "execution_count": 8,
   "id": "f5e1b9bb",
   "metadata": {},
   "outputs": [
    {
     "data": {
      "application/vnd.jupyter.widget-view+json": {
       "model_id": "bb11ea56278a43058e4a1772c6da5b73",
       "version_major": 2,
       "version_minor": 0
      },
      "text/plain": [
       "interactive(children=(IntSlider(value=500, description='sim_time', max=1000, min=100, step=100), IntSlider(val…"
      ]
     },
     "metadata": {},
     "output_type": "display_data"
    },
    {
     "data": {
      "text/plain": [
       "<function __main__.test(sim_time, mean_photon_num, Qbits_NUM)>"
      ]
     },
     "execution_count": 8,
     "metadata": {},
     "output_type": "execute_result"
    }
   ],
   "source": [
    "interactive_plot = interact(test, sim_time=(100, 1000, 100),mean_photon_num=(0, 50, 1), Qbits_NUM=(0, 1000, 1))\n",
    "interactive_plot"
   ]
  },
  {
   "cell_type": "code",
   "execution_count": null,
   "id": "bc70d680",
   "metadata": {},
   "outputs": [],
   "source": []
  },
  {
   "cell_type": "code",
   "execution_count": null,
   "id": "4f1ef75d",
   "metadata": {},
   "outputs": [],
   "source": []
  }
 ],
 "metadata": {
  "kernelspec": {
   "display_name": "Python 3 (ipykernel)",
   "language": "python",
   "name": "python3"
  },
  "language_info": {
   "codemirror_mode": {
    "name": "ipython",
    "version": 3
   },
   "file_extension": ".py",
   "mimetype": "text/x-python",
   "name": "python",
   "nbconvert_exporter": "python",
   "pygments_lexer": "ipython3",
   "version": "3.9.15"
  },
  "vscode": {
   "interpreter": {
    "hash": "31cb7c3324d9f2ab96c65125c9a877780a21656275bd2a07ddc4647067973309"
   }
  }
 },
 "nbformat": 4,
 "nbformat_minor": 5
}
