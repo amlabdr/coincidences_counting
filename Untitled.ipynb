{
 "cells": [
  {
   "cell_type": "code",
   "execution_count": null,
   "id": "0aa54600",
   "metadata": {},
   "outputs": [],
   "source": [
    "from ipywidgets import interact\n",
    "import pandas as pd\n",
    "import matplotlib.pyplot as plt\n",
    "import numpy as np\n",
    "import time\n",
    "from sequence.kernel.timeline import Timeline\n",
    "from sequence.topology.node import Node\n",
    "from sequence.components.light_source import SPDCSource\n",
    "from sequence.kernel.process import Process\n",
    "from sequence.kernel.event import Event\n",
    "from sequence.utils import log\n",
    "import logging\n",
    "logger = logging.getLogger()\n",
    "from sequence.kernel.timeline import Timeline"
   ]
  },
  {
   "cell_type": "code",
   "execution_count": null,
   "id": "63a47efe",
   "metadata": {},
   "outputs": [],
   "source": [
    "class Source(Node):\n",
    "    def __init__(self, name, timeline):\n",
    "        super().__init__(name, timeline)\n",
    "        \n",
    "    def get(self, photon: \"Photon\", **kwargs):\n",
    "        dst = kwargs.get(\"dst\")\n",
    "        if dst is None:\n",
    "            # from spdc source: send to bsm node\n",
    "            self.send_qubit(self.bsm_name, photon)\n",
    "        else:\n",
    "            # from memory: send to destination (measurement) node\n",
    "            self.send_qubit(dst, photon)\n",
    "            \n",
    "class \n",
    "        "
   ]
  }
 ],
 "metadata": {
  "kernelspec": {
   "display_name": "Python 3 (ipykernel)",
   "language": "python",
   "name": "python3"
  },
  "language_info": {
   "codemirror_mode": {
    "name": "ipython",
    "version": 3
   },
   "file_extension": ".py",
   "mimetype": "text/x-python",
   "name": "python",
   "nbconvert_exporter": "python",
   "pygments_lexer": "ipython3",
   "version": "3.10.6"
  }
 },
 "nbformat": 4,
 "nbformat_minor": 5
}
